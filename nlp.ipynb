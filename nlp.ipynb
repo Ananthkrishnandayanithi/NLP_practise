{
 "cells": [
  {
   "cell_type": "code",
   "execution_count": 1,
   "metadata": {},
   "outputs": [
    {
     "name": "stdout",
     "output_type": "stream",
     "text": [
      "Requirement already satisfied: spacy in c:\\users\\asus\\appdata\\local\\programs\\python\\python311\\lib\\site-packages (3.8.3)\n",
      "Requirement already satisfied: spacy-legacy<3.1.0,>=3.0.11 in c:\\users\\asus\\appdata\\local\\programs\\python\\python311\\lib\\site-packages (from spacy) (3.0.12)\n",
      "Requirement already satisfied: spacy-loggers<2.0.0,>=1.0.0 in c:\\users\\asus\\appdata\\local\\programs\\python\\python311\\lib\\site-packages (from spacy) (1.0.5)\n",
      "Requirement already satisfied: murmurhash<1.1.0,>=0.28.0 in c:\\users\\asus\\appdata\\local\\programs\\python\\python311\\lib\\site-packages (from spacy) (1.0.11)\n",
      "Requirement already satisfied: cymem<2.1.0,>=2.0.2 in c:\\users\\asus\\appdata\\local\\programs\\python\\python311\\lib\\site-packages (from spacy) (2.0.10)\n",
      "Requirement already satisfied: preshed<3.1.0,>=3.0.2 in c:\\users\\asus\\appdata\\local\\programs\\python\\python311\\lib\\site-packages (from spacy) (3.0.9)\n",
      "Requirement already satisfied: thinc<8.4.0,>=8.3.0 in c:\\users\\asus\\appdata\\local\\programs\\python\\python311\\lib\\site-packages (from spacy) (8.3.2)\n",
      "Requirement already satisfied: wasabi<1.2.0,>=0.9.1 in c:\\users\\asus\\appdata\\local\\programs\\python\\python311\\lib\\site-packages (from spacy) (1.1.3)\n",
      "Requirement already satisfied: srsly<3.0.0,>=2.4.3 in c:\\users\\asus\\appdata\\local\\programs\\python\\python311\\lib\\site-packages (from spacy) (2.5.0)\n",
      "Requirement already satisfied: catalogue<2.1.0,>=2.0.6 in c:\\users\\asus\\appdata\\local\\programs\\python\\python311\\lib\\site-packages (from spacy) (2.0.10)\n",
      "Requirement already satisfied: weasel<0.5.0,>=0.1.0 in c:\\users\\asus\\appdata\\local\\programs\\python\\python311\\lib\\site-packages (from spacy) (0.4.1)\n",
      "Requirement already satisfied: typer<1.0.0,>=0.3.0 in c:\\users\\asus\\appdata\\local\\programs\\python\\python311\\lib\\site-packages (from spacy) (0.15.1)\n",
      "Requirement already satisfied: tqdm<5.0.0,>=4.38.0 in c:\\users\\asus\\appdata\\local\\programs\\python\\python311\\lib\\site-packages (from spacy) (4.64.1)\n",
      "Requirement already satisfied: numpy>=1.19.0 in c:\\users\\asus\\appdata\\local\\programs\\python\\python311\\lib\\site-packages (from spacy) (2.0.2)\n",
      "Requirement already satisfied: requests<3.0.0,>=2.13.0 in c:\\users\\asus\\appdata\\local\\programs\\python\\python311\\lib\\site-packages (from spacy) (2.32.3)\n",
      "Requirement already satisfied: pydantic!=1.8,!=1.8.1,<3.0.0,>=1.7.4 in c:\\users\\asus\\appdata\\local\\programs\\python\\python311\\lib\\site-packages (from spacy) (2.9.2)\n",
      "Requirement already satisfied: jinja2 in c:\\users\\asus\\appdata\\local\\programs\\python\\python311\\lib\\site-packages (from spacy) (3.1.4)\n",
      "Requirement already satisfied: setuptools in c:\\users\\asus\\appdata\\local\\programs\\python\\python311\\lib\\site-packages (from spacy) (65.5.0)\n",
      "Requirement already satisfied: packaging>=20.0 in c:\\users\\asus\\appdata\\local\\programs\\python\\python311\\lib\\site-packages (from spacy) (24.1)\n",
      "Requirement already satisfied: langcodes<4.0.0,>=3.2.0 in c:\\users\\asus\\appdata\\local\\programs\\python\\python311\\lib\\site-packages (from spacy) (3.5.0)\n",
      "Requirement already satisfied: language-data>=1.2 in c:\\users\\asus\\appdata\\local\\programs\\python\\python311\\lib\\site-packages (from langcodes<4.0.0,>=3.2.0->spacy) (1.3.0)\n",
      "Requirement already satisfied: annotated-types>=0.6.0 in c:\\users\\asus\\appdata\\local\\programs\\python\\python311\\lib\\site-packages (from pydantic!=1.8,!=1.8.1,<3.0.0,>=1.7.4->spacy) (0.7.0)\n",
      "Requirement already satisfied: pydantic-core==2.23.4 in c:\\users\\asus\\appdata\\local\\programs\\python\\python311\\lib\\site-packages (from pydantic!=1.8,!=1.8.1,<3.0.0,>=1.7.4->spacy) (2.23.4)\n",
      "Requirement already satisfied: typing-extensions>=4.6.1 in c:\\users\\asus\\appdata\\local\\programs\\python\\python311\\lib\\site-packages (from pydantic!=1.8,!=1.8.1,<3.0.0,>=1.7.4->spacy) (4.12.2)\n",
      "Requirement already satisfied: charset-normalizer<4,>=2 in c:\\users\\asus\\appdata\\local\\programs\\python\\python311\\lib\\site-packages (from requests<3.0.0,>=2.13.0->spacy) (3.4.0)\n",
      "Requirement already satisfied: idna<4,>=2.5 in c:\\users\\asus\\appdata\\local\\programs\\python\\python311\\lib\\site-packages (from requests<3.0.0,>=2.13.0->spacy) (3.10)\n",
      "Requirement already satisfied: urllib3<3,>=1.21.1 in c:\\users\\asus\\appdata\\local\\programs\\python\\python311\\lib\\site-packages (from requests<3.0.0,>=2.13.0->spacy) (2.2.3)\n",
      "Requirement already satisfied: certifi>=2017.4.17 in c:\\users\\asus\\appdata\\local\\programs\\python\\python311\\lib\\site-packages (from requests<3.0.0,>=2.13.0->spacy) (2024.8.30)\n",
      "Requirement already satisfied: blis<1.1.0,>=1.0.0 in c:\\users\\asus\\appdata\\local\\programs\\python\\python311\\lib\\site-packages (from thinc<8.4.0,>=8.3.0->spacy) (1.0.2)\n",
      "Requirement already satisfied: confection<1.0.0,>=0.0.1 in c:\\users\\asus\\appdata\\local\\programs\\python\\python311\\lib\\site-packages (from thinc<8.4.0,>=8.3.0->spacy) (0.1.5)\n",
      "Requirement already satisfied: colorama in c:\\users\\asus\\appdata\\local\\programs\\python\\python311\\lib\\site-packages (from tqdm<5.0.0,>=4.38.0->spacy) (0.4.6)\n",
      "Requirement already satisfied: click>=8.0.0 in c:\\users\\asus\\appdata\\local\\programs\\python\\python311\\lib\\site-packages (from typer<1.0.0,>=0.3.0->spacy) (8.1.7)\n",
      "Requirement already satisfied: shellingham>=1.3.0 in c:\\users\\asus\\appdata\\local\\programs\\python\\python311\\lib\\site-packages (from typer<1.0.0,>=0.3.0->spacy) (1.5.4)\n",
      "Requirement already satisfied: rich>=10.11.0 in c:\\users\\asus\\appdata\\local\\programs\\python\\python311\\lib\\site-packages (from typer<1.0.0,>=0.3.0->spacy) (13.9.4)\n",
      "Requirement already satisfied: cloudpathlib<1.0.0,>=0.7.0 in c:\\users\\asus\\appdata\\local\\programs\\python\\python311\\lib\\site-packages (from weasel<0.5.0,>=0.1.0->spacy) (0.20.0)\n",
      "Requirement already satisfied: smart-open<8.0.0,>=5.2.1 in c:\\users\\asus\\appdata\\local\\programs\\python\\python311\\lib\\site-packages (from weasel<0.5.0,>=0.1.0->spacy) (7.0.5)\n",
      "Requirement already satisfied: MarkupSafe>=2.0 in c:\\users\\asus\\appdata\\local\\programs\\python\\python311\\lib\\site-packages (from jinja2->spacy) (3.0.1)\n",
      "Requirement already satisfied: marisa-trie>=1.1.0 in c:\\users\\asus\\appdata\\local\\programs\\python\\python311\\lib\\site-packages (from language-data>=1.2->langcodes<4.0.0,>=3.2.0->spacy) (1.2.1)\n",
      "Requirement already satisfied: markdown-it-py>=2.2.0 in c:\\users\\asus\\appdata\\local\\programs\\python\\python311\\lib\\site-packages (from rich>=10.11.0->typer<1.0.0,>=0.3.0->spacy) (3.0.0)\n",
      "Requirement already satisfied: pygments<3.0.0,>=2.13.0 in c:\\users\\asus\\appdata\\local\\programs\\python\\python311\\lib\\site-packages (from rich>=10.11.0->typer<1.0.0,>=0.3.0->spacy) (2.18.0)\n",
      "Requirement already satisfied: wrapt in c:\\users\\asus\\appdata\\local\\programs\\python\\python311\\lib\\site-packages (from smart-open<8.0.0,>=5.2.1->weasel<0.5.0,>=0.1.0->spacy) (1.17.0)\n",
      "Requirement already satisfied: mdurl~=0.1 in c:\\users\\asus\\appdata\\local\\programs\\python\\python311\\lib\\site-packages (from markdown-it-py>=2.2.0->rich>=10.11.0->typer<1.0.0,>=0.3.0->spacy) (0.1.2)\n"
     ]
    },
    {
     "name": "stderr",
     "output_type": "stream",
     "text": [
      "WARNING: Ignoring invalid distribution ~umpy (C:\\Users\\ASUS\\AppData\\Local\\Programs\\Python\\Python311\\Lib\\site-packages)\n",
      "WARNING: Ignoring invalid distribution ~umpy (C:\\Users\\ASUS\\AppData\\Local\\Programs\\Python\\Python311\\Lib\\site-packages)\n",
      "WARNING: Ignoring invalid distribution ~umpy (C:\\Users\\ASUS\\AppData\\Local\\Programs\\Python\\Python311\\Lib\\site-packages)\n"
     ]
    }
   ],
   "source": [
    "!pip install spacy"
   ]
  },
  {
   "cell_type": "code",
   "execution_count": 2,
   "metadata": {},
   "outputs": [],
   "source": [
    "import spacy"
   ]
  },
  {
   "cell_type": "code",
   "execution_count": 3,
   "metadata": {},
   "outputs": [
    {
     "name": "stdout",
     "output_type": "stream",
     "text": [
      "Introducing\n",
      "Zoho\n",
      "Publish\n",
      ",\n",
      "an\n",
      "all\n",
      "-\n",
      "in\n",
      "-\n",
      "one\n",
      "platform\n",
      "for\n",
      "chain\n",
      "and\n",
      "franchise\n",
      "businesses\n",
      "to\n",
      "boost\n",
      "reputation\n",
      "and\n",
      "improve\n",
      "online\n",
      "presence\n",
      "on\n",
      "top\n",
      "business\n",
      "directories\n",
      ".\n"
     ]
    }
   ],
   "source": [
    "nlp = spacy.blank('en')\n",
    "#understands english\n",
    "doc = nlp(\"Introducing Zoho Publish, an all-in-one platform for chain and franchise businesses to boost reputation and improve online presence on top business directories.\")\n",
    "for token in doc : \n",
    "    print(token)"
   ]
  },
  {
   "cell_type": "code",
   "execution_count": 4,
   "metadata": {},
   "outputs": [
    {
     "name": "stdout",
     "output_type": "stream",
     "text": [
      "\"\n",
      "Introducing\n",
      "Zoho\n",
      "Publish\n",
      ",\n",
      "an\n",
      "all\n",
      "-\n",
      "in\n",
      "-\n",
      "one\n",
      "platform\n",
      "for\n",
      "chain\n",
      "and\n",
      "franchise\n",
      "businesses\n",
      "to\n",
      "boost\n",
      "reputation\n",
      "and\n",
      "improve\n",
      "online\n",
      "presence\n",
      "on\n",
      "top\n",
      "business\n",
      "directories\n",
      ".\n",
      "\"\n"
     ]
    }
   ],
   "source": [
    "nlp = spacy.blank('en')\n",
    "#understands english\n",
    "doc = nlp('''\"Introducing Zoho Publish, an all-in-one platform for chain and franchise businesses to boost reputation and improve online presence on top business directories.\"''')\n",
    "for token in doc : \n",
    "    print(token)"
   ]
  },
  {
   "cell_type": "code",
   "execution_count": 5,
   "metadata": {},
   "outputs": [
    {
     "data": {
      "text/plain": [
       "spacy.lang.en.English"
      ]
     },
     "execution_count": 5,
     "metadata": {},
     "output_type": "execute_result"
    }
   ],
   "source": [
    "type(nlp)"
   ]
  },
  {
   "cell_type": "code",
   "execution_count": 6,
   "metadata": {},
   "outputs": [
    {
     "data": {
      "text/plain": [
       "False"
      ]
     },
     "execution_count": 6,
     "metadata": {},
     "output_type": "execute_result"
    }
   ],
   "source": [
    "token0 = doc[0]\n",
    "token0.is_lower"
   ]
  },
  {
   "cell_type": "code",
   "execution_count": 7,
   "metadata": {},
   "outputs": [
    {
     "data": {
      "text/plain": [
       "['Name, Email\\n',\n",
       " 'John Doe, john.doe@example.com\\n',\n",
       " 'Jane Smith, jane.smith@example.com\\n',\n",
       " 'Emily Davis, emily.davis@example.com\\n',\n",
       " 'Michael Brown, michael.brown@example.com\\n',\n",
       " 'Sarah Wilson, sarah.wilson@example.com\\n']"
      ]
     },
     "execution_count": 7,
     "metadata": {},
     "output_type": "execute_result"
    }
   ],
   "source": [
    "with open(\"students_info.txt\") as f :\n",
    "    text = f.readlines()\n",
    "text"
   ]
  },
  {
   "cell_type": "code",
   "execution_count": 8,
   "metadata": {},
   "outputs": [
    {
     "name": "stdout",
     "output_type": "stream",
     "text": [
      "Collecting en-core-web-sm==3.8.0\n",
      "  Downloading https://github.com/explosion/spacy-models/releases/download/en_core_web_sm-3.8.0/en_core_web_sm-3.8.0-py3-none-any.whl (12.8 MB)\n",
      "     ---------------------------------------- 0.0/12.8 MB ? eta -:--:--\n",
      "     ------ --------------------------------- 2.1/12.8 MB 9.8 MB/s eta 0:00:02\n",
      "     -------------- ------------------------- 4.7/12.8 MB 11.9 MB/s eta 0:00:01\n",
      "     -------------------------- ------------- 8.4/12.8 MB 13.7 MB/s eta 0:00:01\n",
      "     --------------------------------------  12.6/12.8 MB 15.5 MB/s eta 0:00:01\n",
      "     --------------------------------------- 12.8/12.8 MB 15.1 MB/s eta 0:00:00\n",
      "\u001b[38;5;2m✔ Download and installation successful\u001b[0m\n",
      "You can now load the package via spacy.load('en_core_web_sm')\n"
     ]
    },
    {
     "name": "stderr",
     "output_type": "stream",
     "text": [
      "WARNING: Ignoring invalid distribution ~umpy (c:\\Users\\ASUS\\AppData\\Local\\Programs\\Python\\Python311\\Lib\\site-packages)\n",
      "WARNING: Ignoring invalid distribution ~umpy (c:\\Users\\ASUS\\AppData\\Local\\Programs\\Python\\Python311\\Lib\\site-packages)\n",
      "WARNING: Ignoring invalid distribution ~umpy (c:\\Users\\ASUS\\AppData\\Local\\Programs\\Python\\Python311\\Lib\\site-packages)\n"
     ]
    }
   ],
   "source": [
    "!python -m spacy download en_core_web_sm\n"
   ]
  },
  {
   "cell_type": "code",
   "execution_count": 9,
   "metadata": {},
   "outputs": [
    {
     "name": "stdout",
     "output_type": "stream",
     "text": [
      "john.doe@example.com\n",
      "jane.smith@example.com\n",
      "emily.davis@example.com\n",
      "michael.brown@example.com\n",
      "sarah.wilson@example.com\n"
     ]
    }
   ],
   "source": [
    "import spacy\n",
    "\n",
    "# Load the language model\n",
    "nlp = spacy.load(\"en_core_web_sm\")\n",
    "\n",
    "# Read the file and join lines into a single string\n",
    "with open(\"students_info.txt\") as f:\n",
    "    text = f.read()  # Use read() instead of readlines() to get the entire content as a string\n",
    "\n",
    "# Process the text\n",
    "doc = nlp(text)\n",
    "\n",
    "# Identify and print email-like tokens\n",
    "for token in doc:\n",
    "    if token.like_email:\n",
    "        print(token)\n"
   ]
  },
  {
   "cell_type": "code",
   "execution_count": 10,
   "metadata": {},
   "outputs": [
    {
     "name": "stdout",
     "output_type": "stream",
     "text": [
      "சூப்பர் False\n",
      "ஸ்டார் False\n",
      "ரஜினிகாந்த் False\n",
      ", False\n",
      "இந்திய False\n",
      "திரைப்பட False\n",
      "உலகின் False\n",
      "பிரபலமான False\n",
      "நடிகராக False\n",
      "திகழ்கிறார் False\n",
      ". False\n",
      "இவர் False\n",
      "இதுவரை False\n",
      "170 True\n",
      "க்கும் False\n",
      "மேற்பட்ட False\n",
      "திரைப்படங்களில் False\n",
      "நடித்துள்ளார் False\n",
      ". False\n",
      "அவரது False\n",
      "திறமையான False\n",
      "நடிப்பும் False\n",
      ", False\n",
      "எளிமையான False\n",
      "தன்மையும் False\n",
      "கோடிக்கணக்கான False\n",
      "ரசிகர்களின் False\n",
      "மனதில் False\n",
      "இடம்பிடித்துள்ளது False\n",
      ". False\n"
     ]
    }
   ],
   "source": [
    "nlp = spacy.blank('ta')\n",
    "\n",
    "text = \"சூப்பர் ஸ்டார் ரஜினிகாந்த், இந்திய திரைப்பட உலகின் பிரபலமான நடிகராக திகழ்கிறார். இவர் இதுவரை 170 க்கும் மேற்பட்ட திரைப்படங்களில் நடித்துள்ளார். அவரது திறமையான நடிப்பும், எளிமையான தன்மையும் கோடிக்கணக்கான ரசிகர்களின் மனதில் இடம்பிடித்துள்ளது.\"\n",
    "doc = nlp(text)\n",
    "for token in doc :\n",
    "    print(token, token.like_num)"
   ]
  },
  {
   "cell_type": "code",
   "execution_count": 11,
   "metadata": {},
   "outputs": [
    {
     "name": "stdout",
     "output_type": "stream",
     "text": [
      "['If', 'you', 'continue', 'to', 'face', 'issues', ',', 'share', 'the', 'full', 'traceback', 'or', 'context', 'for', 'further', 'assistance', 'gimme', 'a', 'call']\n"
     ]
    }
   ],
   "source": [
    "text = \"If you continue to face issues, share the full traceback or context for further assistance gimme a call\"\n",
    "doc = nlp(text)\n",
    "tokens = [ token.text for token in doc ]\n",
    "print(tokens)"
   ]
  },
  {
   "cell_type": "code",
   "execution_count": 12,
   "metadata": {},
   "outputs": [
    {
     "name": "stdout",
     "output_type": "stream",
     "text": [
      "['gim', 'me', 'the', 'book']\n"
     ]
    }
   ],
   "source": [
    "import spacy\n",
    "from spacy.symbols import ORTH\n",
    "\n",
    "# Load the language model\n",
    "nlp = spacy.load(\"en_core_web_sm\")\n",
    "\n",
    "# Add a special case to the tokenizer for \"gimme\"\n",
    "nlp.tokenizer.add_special_case(\"gimme\", [\n",
    "    {ORTH: \"gim\"},\n",
    "    {ORTH: \"me\"}\n",
    "])\n",
    "\n",
    "# Test the tokenizer with the special case\n",
    "doc = nlp(\"gimme the book\")\n",
    "print([token.text for token in doc])  # Output: ['give', 'me', 'the', 'book']\n"
   ]
  },
  {
   "cell_type": "code",
   "execution_count": 13,
   "metadata": {},
   "outputs": [
    {
     "name": "stdout",
     "output_type": "stream",
     "text": [
      "Here are two short sentences about Mahendra Singh Dhoni (MS Dhoni), an Indian cricketer:\n",
      "MS Dhoni is a former Indian cricketer who captained the Indian national team to victory in the 2011 Cricket World Cup.\n",
      "\n",
      "Dhoni is considered one of the most successful Indian captains and most prolific wicket-keeper batsmen.\n",
      "\n",
      "Here are some other facts about MS Dhoni.\n"
     ]
    }
   ],
   "source": [
    "import spacy\n",
    "\n",
    "# Load the language model\n",
    "nlp = spacy.load(\"en_core_web_sm\")\n",
    "\n",
    "# Add the sentencizer to the pipeline\n",
    "nlp.add_pipe('sentencizer', first=True)\n",
    "\n",
    "# Sample text\n",
    "text = '''Here are two short sentences about Mahendra Singh Dhoni (MS Dhoni), an Indian cricketer:\n",
    "MS Dhoni is a former Indian cricketer who captained the Indian national team to victory in the 2011 Cricket World Cup. \n",
    "Dhoni is considered one of the most successful Indian captains and most prolific wicket-keeper batsmen. \n",
    "Here are some other facts about MS Dhoni.'''\n",
    "\n",
    "# Process the text\n",
    "doc = nlp(text)\n",
    "\n",
    "# Print the sentences\n",
    "for sentence in doc.sents:\n",
    "    print(sentence)\n"
   ]
  },
  {
   "cell_type": "code",
   "execution_count": 14,
   "metadata": {},
   "outputs": [
    {
     "name": "stdout",
     "output_type": "stream",
     "text": [
      "Here are two short sentences about Mahendra Singh Dhoni (MS Dhoni), an Indian cricketer:\n",
      "MS Dhoni is a former Indian cricketer who captained the Indian national team to victory in the 2011 Cricket World Cup.\n",
      "\n",
      "Dhoni is considered one of the most successful Indian captains and most prolific wicket-keeper batsmen.\n",
      "\n",
      "Here are some other facts about MS Dhoni:\n",
      "Dhoni was born on July 7, 1981 in Ranchi, Bihar.\n",
      "\n",
      "He made his international debut in 2004 against Bangladesh in Chittagong.\n",
      "\n",
      "He captained the Indian cricket team in limited overs formats from 2007 to 2017 and in test cricket from 2008 to 2014.\n"
     ]
    }
   ],
   "source": [
    "text = '''Here are two short sentences about Mahendra Singh Dhoni (MS Dhoni), an Indian cricketer:\n",
    "MS Dhoni is a former Indian cricketer who captained the Indian national team to victory in the 2011 Cricket World Cup. \n",
    "Dhoni is considered one of the most successful Indian captains and most prolific wicket-keeper batsmen. \n",
    "Here are some other facts about MS Dhoni:\n",
    "Dhoni was born on July 7, 1981 in Ranchi, Bihar. \n",
    "He made his international debut in 2004 against Bangladesh in Chittagong. \n",
    "He captained the Indian cricket team in limited overs formats from 2007 to 2017 and in test cricket from 2008 to 2014. '''\n",
    "doc = nlp(text)\n",
    "\n",
    "for sentence  in doc.sents :\n",
    "    print(sentence)"
   ]
  },
  {
   "cell_type": "markdown",
   "metadata": {},
   "source": [
    "PIPELINE"
   ]
  },
  {
   "cell_type": "code",
   "execution_count": 15,
   "metadata": {},
   "outputs": [],
   "source": [
    "#Not adding pipe using inbuilt pipeline models\n",
    "\n",
    "nlp = spacy.load(\"en_core_web_sm\")"
   ]
  },
  {
   "cell_type": "code",
   "execution_count": 17,
   "metadata": {},
   "outputs": [
    {
     "data": {
      "text/plain": [
       "[('tok2vec', <spacy.pipeline.tok2vec.Tok2Vec at 0x25d2a7c7e30>),\n",
       " ('tagger', <spacy.pipeline.tagger.Tagger at 0x25d2a9e8110>),\n",
       " ('parser', <spacy.pipeline.dep_parser.DependencyParser at 0x25d41dd4f90>),\n",
       " ('attribute_ruler',\n",
       "  <spacy.pipeline.attributeruler.AttributeRuler at 0x25d43430490>),\n",
       " ('lemmatizer', <spacy.lang.en.lemmatizer.EnglishLemmatizer at 0x25d418b8450>),\n",
       " ('ner', <spacy.pipeline.ner.EntityRecognizer at 0x25d4006bf40>)]"
      ]
     },
     "execution_count": 17,
     "metadata": {},
     "output_type": "execute_result"
    }
   ],
   "source": [
    "nlp.pipeline"
   ]
  },
  {
   "cell_type": "code",
   "execution_count": 19,
   "metadata": {},
   "outputs": [
    {
     "name": "stdout",
     "output_type": "stream",
     "text": [
      "Here ADV\n",
      "are AUX\n",
      "two NUM\n",
      "short ADJ\n",
      "sentences NOUN\n",
      "about ADP\n",
      "Mahendra PROPN\n",
      "Singh PROPN\n",
      "Dhoni PROPN\n",
      "( PUNCT\n",
      "MS PROPN\n",
      "Dhoni PROPN\n",
      ") PUNCT\n",
      ", PUNCT\n",
      "an DET\n",
      "Indian ADJ\n",
      "cricketer NOUN\n",
      ": PUNCT\n",
      "\n",
      " SPACE\n",
      "MS PROPN\n",
      "Dhoni PROPN\n",
      "is AUX\n",
      "a DET\n",
      "former ADJ\n",
      "Indian ADJ\n",
      "cricketer NOUN\n",
      "who PRON\n",
      "captained VERB\n",
      "the DET\n",
      "Indian ADJ\n",
      "national ADJ\n",
      "team NOUN\n",
      "to ADP\n",
      "victory NOUN\n",
      "in ADP\n",
      "the DET\n",
      "2011 NUM\n",
      "Cricket PROPN\n",
      "World PROPN\n",
      "Cup PROPN\n",
      ". PUNCT\n",
      "\n",
      " SPACE\n",
      "Dhoni PROPN\n",
      "is AUX\n",
      "considered VERB\n",
      "one NUM\n",
      "of ADP\n",
      "the DET\n",
      "most ADV\n",
      "successful ADJ\n",
      "Indian ADJ\n",
      "captains NOUN\n",
      "and CCONJ\n",
      "most ADJ\n",
      "prolific ADJ\n",
      "wicket NOUN\n",
      "- PUNCT\n",
      "keeper NOUN\n",
      "batsmen NOUN\n",
      ". PUNCT\n",
      "\n",
      " SPACE\n",
      "Here ADV\n",
      "are AUX\n",
      "some DET\n",
      "other ADJ\n",
      "facts NOUN\n",
      "about ADP\n",
      "MS PROPN\n",
      "Dhoni PROPN\n",
      ": PUNCT\n",
      "\n",
      " SPACE\n",
      "Dhoni PROPN\n",
      "was AUX\n",
      "born VERB\n",
      "on ADP\n",
      "July PROPN\n",
      "7 NUM\n",
      ", PUNCT\n",
      "1981 NUM\n",
      "in ADP\n",
      "Ranchi PROPN\n",
      ", PUNCT\n",
      "Bihar PROPN\n",
      ". PUNCT\n",
      "\n",
      " SPACE\n",
      "He PRON\n",
      "made VERB\n",
      "his PRON\n",
      "international ADJ\n",
      "debut NOUN\n",
      "in ADP\n",
      "2004 NUM\n",
      "against ADP\n",
      "Bangladesh PROPN\n",
      "in ADP\n",
      "Chittagong PROPN\n",
      ". PUNCT\n",
      "\n",
      " SPACE\n",
      "He PRON\n",
      "captained VERB\n",
      "the DET\n",
      "Indian ADJ\n",
      "cricket NOUN\n",
      "team NOUN\n",
      "in ADP\n",
      "limited ADJ\n",
      "overs NOUN\n",
      "formats NOUN\n",
      "from ADP\n",
      "2007 NUM\n",
      "to ADP\n",
      "2017 NUM\n",
      "and CCONJ\n",
      "in ADP\n",
      "test NOUN\n",
      "cricket NOUN\n",
      "from ADP\n",
      "2008 NUM\n",
      "to ADP\n",
      "2014 NUM\n",
      ". PUNCT\n"
     ]
    }
   ],
   "source": [
    "text = '''Here are two short sentences about Mahendra Singh Dhoni (MS Dhoni), an Indian cricketer:\n",
    "MS Dhoni is a former Indian cricketer who captained the Indian national team to victory in the 2011 Cricket World Cup. \n",
    "Dhoni is considered one of the most successful Indian captains and most prolific wicket-keeper batsmen. \n",
    "Here are some other facts about MS Dhoni:\n",
    "Dhoni was born on July 7, 1981 in Ranchi, Bihar. \n",
    "He made his international debut in 2004 against Bangladesh in Chittagong. \n",
    "He captained the Indian cricket team in limited overs formats from 2007 to 2017 and in test cricket from 2008 to 2014. '''\n",
    "doc = nlp(text)\n",
    "\n",
    "for token in doc :\n",
    "    print(token , token.pos_)"
   ]
  },
  {
   "cell_type": "code",
   "execution_count": 23,
   "metadata": {},
   "outputs": [
    {
     "name": "stdout",
     "output_type": "stream",
     "text": [
      "two CARDINAL\n",
      "Mahendra Singh Dhoni PERSON\n",
      "MS Dhoni PERSON\n",
      "Indian NORP\n",
      "MS Dhoni PERSON\n",
      "Indian NORP\n",
      "Indian NORP\n",
      "2011 DATE\n",
      "Dhoni PERSON\n",
      "one CARDINAL\n",
      "Indian NORP\n",
      "MS Dhoni PERSON\n",
      "Dhoni PERSON\n",
      "July 7, 1981 DATE\n",
      "Ranchi GPE\n",
      "Bihar GPE\n",
      "2004 DATE\n",
      "Bangladesh GPE\n",
      "Chittagong GPE\n",
      "Indian NORP\n",
      "2007 DATE\n",
      "2017 DATE\n",
      "2008 DATE\n"
     ]
    }
   ],
   "source": [
    "doc = nlp(text)\n",
    "for ent in doc.ents :\n",
    "    print(ent.text , ent.label_)"
   ]
  },
  {
   "cell_type": "code",
   "execution_count": 24,
   "metadata": {},
   "outputs": [
    {
     "data": {
      "text/html": [
       "<span class=\"tex2jax_ignore\"><div class=\"entities\" style=\"line-height: 2.5; direction: ltr\">Here are \n",
       "<mark class=\"entity\" style=\"background: #e4e7d2; padding: 0.45em 0.6em; margin: 0 0.25em; line-height: 1; border-radius: 0.35em;\">\n",
       "    two\n",
       "    <span style=\"font-size: 0.8em; font-weight: bold; line-height: 1; border-radius: 0.35em; vertical-align: middle; margin-left: 0.5rem\">CARDINAL</span>\n",
       "</mark>\n",
       " short sentences about \n",
       "<mark class=\"entity\" style=\"background: #aa9cfc; padding: 0.45em 0.6em; margin: 0 0.25em; line-height: 1; border-radius: 0.35em;\">\n",
       "    Mahendra Singh Dhoni\n",
       "    <span style=\"font-size: 0.8em; font-weight: bold; line-height: 1; border-radius: 0.35em; vertical-align: middle; margin-left: 0.5rem\">PERSON</span>\n",
       "</mark>\n",
       " (\n",
       "<mark class=\"entity\" style=\"background: #aa9cfc; padding: 0.45em 0.6em; margin: 0 0.25em; line-height: 1; border-radius: 0.35em;\">\n",
       "    MS Dhoni\n",
       "    <span style=\"font-size: 0.8em; font-weight: bold; line-height: 1; border-radius: 0.35em; vertical-align: middle; margin-left: 0.5rem\">PERSON</span>\n",
       "</mark>\n",
       "), an \n",
       "<mark class=\"entity\" style=\"background: #c887fb; padding: 0.45em 0.6em; margin: 0 0.25em; line-height: 1; border-radius: 0.35em;\">\n",
       "    Indian\n",
       "    <span style=\"font-size: 0.8em; font-weight: bold; line-height: 1; border-radius: 0.35em; vertical-align: middle; margin-left: 0.5rem\">NORP</span>\n",
       "</mark>\n",
       " cricketer:<br>\n",
       "<mark class=\"entity\" style=\"background: #aa9cfc; padding: 0.45em 0.6em; margin: 0 0.25em; line-height: 1; border-radius: 0.35em;\">\n",
       "    MS Dhoni\n",
       "    <span style=\"font-size: 0.8em; font-weight: bold; line-height: 1; border-radius: 0.35em; vertical-align: middle; margin-left: 0.5rem\">PERSON</span>\n",
       "</mark>\n",
       " is a former \n",
       "<mark class=\"entity\" style=\"background: #c887fb; padding: 0.45em 0.6em; margin: 0 0.25em; line-height: 1; border-radius: 0.35em;\">\n",
       "    Indian\n",
       "    <span style=\"font-size: 0.8em; font-weight: bold; line-height: 1; border-radius: 0.35em; vertical-align: middle; margin-left: 0.5rem\">NORP</span>\n",
       "</mark>\n",
       " cricketer who captained the \n",
       "<mark class=\"entity\" style=\"background: #c887fb; padding: 0.45em 0.6em; margin: 0 0.25em; line-height: 1; border-radius: 0.35em;\">\n",
       "    Indian\n",
       "    <span style=\"font-size: 0.8em; font-weight: bold; line-height: 1; border-radius: 0.35em; vertical-align: middle; margin-left: 0.5rem\">NORP</span>\n",
       "</mark>\n",
       " national team to victory in the \n",
       "<mark class=\"entity\" style=\"background: #bfe1d9; padding: 0.45em 0.6em; margin: 0 0.25em; line-height: 1; border-radius: 0.35em;\">\n",
       "    2011\n",
       "    <span style=\"font-size: 0.8em; font-weight: bold; line-height: 1; border-radius: 0.35em; vertical-align: middle; margin-left: 0.5rem\">DATE</span>\n",
       "</mark>\n",
       " Cricket World Cup. <br>\n",
       "<mark class=\"entity\" style=\"background: #aa9cfc; padding: 0.45em 0.6em; margin: 0 0.25em; line-height: 1; border-radius: 0.35em;\">\n",
       "    Dhoni\n",
       "    <span style=\"font-size: 0.8em; font-weight: bold; line-height: 1; border-radius: 0.35em; vertical-align: middle; margin-left: 0.5rem\">PERSON</span>\n",
       "</mark>\n",
       " is considered \n",
       "<mark class=\"entity\" style=\"background: #e4e7d2; padding: 0.45em 0.6em; margin: 0 0.25em; line-height: 1; border-radius: 0.35em;\">\n",
       "    one\n",
       "    <span style=\"font-size: 0.8em; font-weight: bold; line-height: 1; border-radius: 0.35em; vertical-align: middle; margin-left: 0.5rem\">CARDINAL</span>\n",
       "</mark>\n",
       " of the most successful \n",
       "<mark class=\"entity\" style=\"background: #c887fb; padding: 0.45em 0.6em; margin: 0 0.25em; line-height: 1; border-radius: 0.35em;\">\n",
       "    Indian\n",
       "    <span style=\"font-size: 0.8em; font-weight: bold; line-height: 1; border-radius: 0.35em; vertical-align: middle; margin-left: 0.5rem\">NORP</span>\n",
       "</mark>\n",
       " captains and most prolific wicket-keeper batsmen. <br>Here are some other facts about \n",
       "<mark class=\"entity\" style=\"background: #aa9cfc; padding: 0.45em 0.6em; margin: 0 0.25em; line-height: 1; border-radius: 0.35em;\">\n",
       "    MS Dhoni\n",
       "    <span style=\"font-size: 0.8em; font-weight: bold; line-height: 1; border-radius: 0.35em; vertical-align: middle; margin-left: 0.5rem\">PERSON</span>\n",
       "</mark>\n",
       ":<br>\n",
       "<mark class=\"entity\" style=\"background: #aa9cfc; padding: 0.45em 0.6em; margin: 0 0.25em; line-height: 1; border-radius: 0.35em;\">\n",
       "    Dhoni\n",
       "    <span style=\"font-size: 0.8em; font-weight: bold; line-height: 1; border-radius: 0.35em; vertical-align: middle; margin-left: 0.5rem\">PERSON</span>\n",
       "</mark>\n",
       " was born on \n",
       "<mark class=\"entity\" style=\"background: #bfe1d9; padding: 0.45em 0.6em; margin: 0 0.25em; line-height: 1; border-radius: 0.35em;\">\n",
       "    July 7, 1981\n",
       "    <span style=\"font-size: 0.8em; font-weight: bold; line-height: 1; border-radius: 0.35em; vertical-align: middle; margin-left: 0.5rem\">DATE</span>\n",
       "</mark>\n",
       " in \n",
       "<mark class=\"entity\" style=\"background: #feca74; padding: 0.45em 0.6em; margin: 0 0.25em; line-height: 1; border-radius: 0.35em;\">\n",
       "    Ranchi\n",
       "    <span style=\"font-size: 0.8em; font-weight: bold; line-height: 1; border-radius: 0.35em; vertical-align: middle; margin-left: 0.5rem\">GPE</span>\n",
       "</mark>\n",
       ", \n",
       "<mark class=\"entity\" style=\"background: #feca74; padding: 0.45em 0.6em; margin: 0 0.25em; line-height: 1; border-radius: 0.35em;\">\n",
       "    Bihar\n",
       "    <span style=\"font-size: 0.8em; font-weight: bold; line-height: 1; border-radius: 0.35em; vertical-align: middle; margin-left: 0.5rem\">GPE</span>\n",
       "</mark>\n",
       ". <br>He made his international debut in \n",
       "<mark class=\"entity\" style=\"background: #bfe1d9; padding: 0.45em 0.6em; margin: 0 0.25em; line-height: 1; border-radius: 0.35em;\">\n",
       "    2004\n",
       "    <span style=\"font-size: 0.8em; font-weight: bold; line-height: 1; border-radius: 0.35em; vertical-align: middle; margin-left: 0.5rem\">DATE</span>\n",
       "</mark>\n",
       " against \n",
       "<mark class=\"entity\" style=\"background: #feca74; padding: 0.45em 0.6em; margin: 0 0.25em; line-height: 1; border-radius: 0.35em;\">\n",
       "    Bangladesh\n",
       "    <span style=\"font-size: 0.8em; font-weight: bold; line-height: 1; border-radius: 0.35em; vertical-align: middle; margin-left: 0.5rem\">GPE</span>\n",
       "</mark>\n",
       " in \n",
       "<mark class=\"entity\" style=\"background: #feca74; padding: 0.45em 0.6em; margin: 0 0.25em; line-height: 1; border-radius: 0.35em;\">\n",
       "    Chittagong\n",
       "    <span style=\"font-size: 0.8em; font-weight: bold; line-height: 1; border-radius: 0.35em; vertical-align: middle; margin-left: 0.5rem\">GPE</span>\n",
       "</mark>\n",
       ". <br>He captained the \n",
       "<mark class=\"entity\" style=\"background: #c887fb; padding: 0.45em 0.6em; margin: 0 0.25em; line-height: 1; border-radius: 0.35em;\">\n",
       "    Indian\n",
       "    <span style=\"font-size: 0.8em; font-weight: bold; line-height: 1; border-radius: 0.35em; vertical-align: middle; margin-left: 0.5rem\">NORP</span>\n",
       "</mark>\n",
       " cricket team in limited overs formats from \n",
       "<mark class=\"entity\" style=\"background: #bfe1d9; padding: 0.45em 0.6em; margin: 0 0.25em; line-height: 1; border-radius: 0.35em;\">\n",
       "    2007\n",
       "    <span style=\"font-size: 0.8em; font-weight: bold; line-height: 1; border-radius: 0.35em; vertical-align: middle; margin-left: 0.5rem\">DATE</span>\n",
       "</mark>\n",
       " to \n",
       "<mark class=\"entity\" style=\"background: #bfe1d9; padding: 0.45em 0.6em; margin: 0 0.25em; line-height: 1; border-radius: 0.35em;\">\n",
       "    2017\n",
       "    <span style=\"font-size: 0.8em; font-weight: bold; line-height: 1; border-radius: 0.35em; vertical-align: middle; margin-left: 0.5rem\">DATE</span>\n",
       "</mark>\n",
       " and in test cricket from \n",
       "<mark class=\"entity\" style=\"background: #bfe1d9; padding: 0.45em 0.6em; margin: 0 0.25em; line-height: 1; border-radius: 0.35em;\">\n",
       "    2008\n",
       "    <span style=\"font-size: 0.8em; font-weight: bold; line-height: 1; border-radius: 0.35em; vertical-align: middle; margin-left: 0.5rem\">DATE</span>\n",
       "</mark>\n",
       " to 2014. </div></span>"
      ],
      "text/plain": [
       "<IPython.core.display.HTML object>"
      ]
     },
     "metadata": {},
     "output_type": "display_data"
    }
   ],
   "source": [
    "from spacy import displacy\n",
    "\n",
    "displacy.render(doc, style = \"ent\")"
   ]
  },
  {
   "cell_type": "code",
   "execution_count": 25,
   "metadata": {},
   "outputs": [
    {
     "name": "stdout",
     "output_type": "stream",
     "text": [
      "Barack Obama PERSON\n",
      "44th ORDINAL\n",
      "the United States GPE\n"
     ]
    }
   ],
   "source": [
    "import spacy\n",
    "\n",
    "# Load a blank English model\n",
    "nlp = spacy.blank(\"en\")\n",
    "\n",
    "# Assume source_nlp is a pre-trained SpaCy pipeline with an 'ner' component\n",
    "# Replace 'source_nlp' with an actual model, e.g., spacy.load(\"en_core_web_sm\")\n",
    "source_nlp = spacy.load(\"en_core_web_sm\")\n",
    "\n",
    "# Add the NER component from the source pipeline\n",
    "nlp.add_pipe(\"ner\", source=source_nlp)\n",
    "\n",
    "# Process text\n",
    "text = \"Barack Obama was the 44th President of the United States.\"\n",
    "doc = nlp(text)\n",
    "\n",
    "# Print entities\n",
    "for ent in doc.ents:\n",
    "    print(ent.text, ent.label_)\n"
   ]
  },
  {
   "cell_type": "code",
   "execution_count": 26,
   "metadata": {},
   "outputs": [
    {
     "name": "stdout",
     "output_type": "stream",
     "text": [
      "Collecting nltk"
     ]
    },
    {
     "name": "stderr",
     "output_type": "stream",
     "text": [
      "WARNING: Ignoring invalid distribution ~umpy (C:\\Users\\ASUS\\AppData\\Local\\Programs\\Python\\Python311\\Lib\\site-packages)\n",
      "WARNING: Ignoring invalid distribution ~umpy (C:\\Users\\ASUS\\AppData\\Local\\Programs\\Python\\Python311\\Lib\\site-packages)\n",
      "WARNING: Ignoring invalid distribution ~umpy (C:\\Users\\ASUS\\AppData\\Local\\Programs\\Python\\Python311\\Lib\\site-packages)\n"
     ]
    },
    {
     "name": "stdout",
     "output_type": "stream",
     "text": [
      "\n",
      "  Downloading nltk-3.9.1-py3-none-any.whl.metadata (2.9 kB)\n",
      "Requirement already satisfied: click in c:\\users\\asus\\appdata\\local\\programs\\python\\python311\\lib\\site-packages (from nltk) (8.1.7)\n",
      "Requirement already satisfied: joblib in c:\\users\\asus\\appdata\\local\\programs\\python\\python311\\lib\\site-packages (from nltk) (1.4.2)\n",
      "Requirement already satisfied: regex>=2021.8.3 in c:\\users\\asus\\appdata\\local\\programs\\python\\python311\\lib\\site-packages (from nltk) (2024.9.11)\n",
      "Requirement already satisfied: tqdm in c:\\users\\asus\\appdata\\local\\programs\\python\\python311\\lib\\site-packages (from nltk) (4.64.1)\n",
      "Requirement already satisfied: colorama in c:\\users\\asus\\appdata\\local\\programs\\python\\python311\\lib\\site-packages (from click->nltk) (0.4.6)\n",
      "Downloading nltk-3.9.1-py3-none-any.whl (1.5 MB)\n",
      "   ---------------------------------------- 0.0/1.5 MB ? eta -:--:--\n",
      "   ---------------------------------------- 1.5/1.5 MB 15.9 MB/s eta 0:00:00\n",
      "Installing collected packages: nltk\n",
      "Successfully installed nltk-3.9.1\n"
     ]
    }
   ],
   "source": [
    "#steaming : getting the base word from the word removing ing\n",
    "#lemmatization finding the related words using linguistic knowleage eg eat ate\n",
    "!pip install nltk\n"
   ]
  },
  {
   "cell_type": "code",
   "execution_count": 29,
   "metadata": {},
   "outputs": [
    {
     "name": "stdout",
     "output_type": "stream",
     "text": [
      "eating | eat\n",
      "walking | walk\n",
      "ananthing | ananth\n"
     ]
    }
   ],
   "source": [
    "from nltk.stem import PorterStemmer , SnowballStemmer\n",
    "stemmer = PorterStemmer()\n",
    "words = ['eating','walking','ananthing']\n",
    "\n",
    "for i in words:\n",
    "    print(i ,'|', stemmer.stem(i))"
   ]
  },
  {
   "cell_type": "code",
   "execution_count": 36,
   "metadata": {},
   "outputs": [
    {
     "name": "stdout",
     "output_type": "stream",
     "text": [
      "['tok2vec', 'tagger', 'parser', 'attribute_ruler', 'lemmatizer', 'ner']\n",
      "bro | brother\n",
      "I | I\n",
      "ate | eat\n",
      "the | the\n",
      "food | food\n",
      "yesterday | yesterday\n",
      "and | and\n",
      "wrote | write\n",
      "a | a\n",
      "letter | letter\n",
      "to | to\n",
      "my | my\n",
      "mom | mom\n"
     ]
    }
   ],
   "source": [
    "import spacy\n",
    "\n",
    "nlp = spacy.load(\"en_core_web_sm\")\n",
    "\n",
    "\n",
    "text = \"bro I ate the food yesterday and wrote a letter to my mom\"\n",
    "doc = nlp(text)\n",
    "\n",
    "\n",
    "# Check pipeline components\n",
    "print(nlp.pipe_names)\n",
    "\n",
    "# Get the attribute ruler\n",
    "ar = nlp.get_pipe(\"attribute_ruler\")\n",
    "\n",
    "# Add custom rules to the attribute ruler\n",
    "patterns = [[{\"LOWER\": \"bro\"}], [{\"LOWER\": \"bruh\"}]]\n",
    "attrs = {\"LEMMA\": \"brother\"}\n",
    "ar.add(patterns=patterns, attrs=attrs)\n",
    "\n",
    "# Process the text again to see the updated lemma\n",
    "doc = nlp(text)\n",
    "for token in doc:\n",
    "    print(token, '|', token.lemma_)\n"
   ]
  }
 ],
 "metadata": {
  "kernelspec": {
   "display_name": "Python 3",
   "language": "python",
   "name": "python3"
  },
  "language_info": {
   "codemirror_mode": {
    "name": "ipython",
    "version": 3
   },
   "file_extension": ".py",
   "mimetype": "text/x-python",
   "name": "python",
   "nbconvert_exporter": "python",
   "pygments_lexer": "ipython3",
   "version": "3.11.9"
  }
 },
 "nbformat": 4,
 "nbformat_minor": 2
}
