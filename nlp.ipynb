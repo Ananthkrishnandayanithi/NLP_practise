{
 "cells": [
  {
   "cell_type": "code",
   "execution_count": 1,
   "metadata": {},
   "outputs": [
    {
     "name": "stdout",
     "output_type": "stream",
     "text": [
      "Collecting spacy\n",
      "  Using cached spacy-3.8.3-cp311-cp311-win_amd64.whl.metadata (27 kB)\n",
      "Requirement already satisfied: spacy-legacy<3.1.0,>=3.0.11 in c:\\users\\asus\\appdata\\local\\programs\\python\\python311\\lib\\site-packages (from spacy) (3.0.12)\n",
      "Requirement already satisfied: spacy-loggers<2.0.0,>=1.0.0 in c:\\users\\asus\\appdata\\local\\programs\\python\\python311\\lib\\site-packages (from spacy) (1.0.5)\n",
      "Collecting murmurhash<1.1.0,>=0.28.0 (from spacy)\n",
      "  Using cached murmurhash-1.0.11-cp311-cp311-win_amd64.whl.metadata (2.0 kB)\n",
      "Requirement already satisfied: cymem<2.1.0,>=2.0.2 in c:\\users\\asus\\appdata\\local\\programs\\python\\python311\\lib\\site-packages (from spacy) (2.0.10)\n",
      "Collecting preshed<3.1.0,>=3.0.2 (from spacy)\n",
      "  Using cached preshed-3.0.9-cp311-cp311-win_amd64.whl.metadata (2.2 kB)\n",
      "Collecting thinc<8.4.0,>=8.3.0 (from spacy)\n",
      "  Using cached thinc-8.3.2-cp311-cp311-win_amd64.whl.metadata (15 kB)\n",
      "Requirement already satisfied: wasabi<1.2.0,>=0.9.1 in c:\\users\\asus\\appdata\\local\\programs\\python\\python311\\lib\\site-packages (from spacy) (1.1.3)\n",
      "Collecting srsly<3.0.0,>=2.4.3 (from spacy)\n",
      "  Using cached srsly-2.5.0-cp311-cp311-win_amd64.whl.metadata (20 kB)\n",
      "Collecting catalogue<2.1.0,>=2.0.6 (from spacy)\n",
      "  Using cached catalogue-2.0.10-py3-none-any.whl.metadata (14 kB)\n",
      "Collecting weasel<0.5.0,>=0.1.0 (from spacy)\n",
      "  Using cached weasel-0.4.1-py3-none-any.whl.metadata (4.6 kB)\n",
      "Collecting typer<1.0.0,>=0.3.0 (from spacy)\n",
      "  Using cached typer-0.15.1-py3-none-any.whl.metadata (15 kB)\n",
      "Requirement already satisfied: tqdm<5.0.0,>=4.38.0 in c:\\users\\asus\\appdata\\local\\programs\\python\\python311\\lib\\site-packages (from spacy) (4.64.1)\n",
      "Requirement already satisfied: numpy>=1.19.0 in c:\\users\\asus\\appdata\\local\\programs\\python\\python311\\lib\\site-packages (from spacy) (2.0.2)\n",
      "Requirement already satisfied: requests<3.0.0,>=2.13.0 in c:\\users\\asus\\appdata\\local\\programs\\python\\python311\\lib\\site-packages (from spacy) (2.32.3)\n",
      "Requirement already satisfied: pydantic!=1.8,!=1.8.1,<3.0.0,>=1.7.4 in c:\\users\\asus\\appdata\\local\\programs\\python\\python311\\lib\\site-packages (from spacy) (2.9.2)\n",
      "Requirement already satisfied: jinja2 in c:\\users\\asus\\appdata\\local\\programs\\python\\python311\\lib\\site-packages (from spacy) (3.1.4)\n",
      "Requirement already satisfied: setuptools in c:\\users\\asus\\appdata\\local\\programs\\python\\python311\\lib\\site-packages (from spacy) (65.5.0)\n",
      "Requirement already satisfied: packaging>=20.0 in c:\\users\\asus\\appdata\\local\\programs\\python\\python311\\lib\\site-packages (from spacy) (24.1)\n",
      "Collecting langcodes<4.0.0,>=3.2.0 (from spacy)\n",
      "  Using cached langcodes-3.5.0-py3-none-any.whl.metadata (29 kB)\n",
      "Collecting language-data>=1.2 (from langcodes<4.0.0,>=3.2.0->spacy)\n",
      "  Using cached language_data-1.3.0-py3-none-any.whl.metadata (4.3 kB)\n",
      "Requirement already satisfied: annotated-types>=0.6.0 in c:\\users\\asus\\appdata\\local\\programs\\python\\python311\\lib\\site-packages (from pydantic!=1.8,!=1.8.1,<3.0.0,>=1.7.4->spacy) (0.7.0)\n",
      "Requirement already satisfied: pydantic-core==2.23.4 in c:\\users\\asus\\appdata\\local\\programs\\python\\python311\\lib\\site-packages (from pydantic!=1.8,!=1.8.1,<3.0.0,>=1.7.4->spacy) (2.23.4)\n",
      "Requirement already satisfied: typing-extensions>=4.6.1 in c:\\users\\asus\\appdata\\local\\programs\\python\\python311\\lib\\site-packages (from pydantic!=1.8,!=1.8.1,<3.0.0,>=1.7.4->spacy) (4.12.2)\n",
      "Requirement already satisfied: charset-normalizer<4,>=2 in c:\\users\\asus\\appdata\\local\\programs\\python\\python311\\lib\\site-packages (from requests<3.0.0,>=2.13.0->spacy) (3.4.0)\n",
      "Requirement already satisfied: idna<4,>=2.5 in c:\\users\\asus\\appdata\\local\\programs\\python\\python311\\lib\\site-packages (from requests<3.0.0,>=2.13.0->spacy) (3.10)\n",
      "Requirement already satisfied: urllib3<3,>=1.21.1 in c:\\users\\asus\\appdata\\local\\programs\\python\\python311\\lib\\site-packages (from requests<3.0.0,>=2.13.0->spacy) (2.2.3)\n",
      "Requirement already satisfied: certifi>=2017.4.17 in c:\\users\\asus\\appdata\\local\\programs\\python\\python311\\lib\\site-packages (from requests<3.0.0,>=2.13.0->spacy) (2024.8.30)\n",
      "Collecting blis<1.1.0,>=1.0.0 (from thinc<8.4.0,>=8.3.0->spacy)\n",
      "  Using cached blis-1.0.2-cp311-cp311-win_amd64.whl.metadata (7.8 kB)\n",
      "Collecting confection<1.0.0,>=0.0.1 (from thinc<8.4.0,>=8.3.0->spacy)\n",
      "  Using cached confection-0.1.5-py3-none-any.whl.metadata (19 kB)\n",
      "Requirement already satisfied: colorama in c:\\users\\asus\\appdata\\local\\programs\\python\\python311\\lib\\site-packages (from tqdm<5.0.0,>=4.38.0->spacy) (0.4.6)\n",
      "Requirement already satisfied: click>=8.0.0 in c:\\users\\asus\\appdata\\local\\programs\\python\\python311\\lib\\site-packages (from typer<1.0.0,>=0.3.0->spacy) (8.1.7)\n",
      "Requirement already satisfied: shellingham>=1.3.0 in c:\\users\\asus\\appdata\\local\\programs\\python\\python311\\lib\\site-packages (from typer<1.0.0,>=0.3.0->spacy) (1.5.4)\n",
      "Requirement already satisfied: rich>=10.11.0 in c:\\users\\asus\\appdata\\local\\programs\\python\\python311\\lib\\site-packages (from typer<1.0.0,>=0.3.0->spacy) (13.9.4)\n",
      "Collecting cloudpathlib<1.0.0,>=0.7.0 (from weasel<0.5.0,>=0.1.0->spacy)\n",
      "  Using cached cloudpathlib-0.20.0-py3-none-any.whl.metadata (14 kB)\n",
      "Collecting smart-open<8.0.0,>=5.2.1 (from weasel<0.5.0,>=0.1.0->spacy)\n",
      "  Using cached smart_open-7.0.5-py3-none-any.whl.metadata (24 kB)\n",
      "Requirement already satisfied: MarkupSafe>=2.0 in c:\\users\\asus\\appdata\\local\\programs\\python\\python311\\lib\\site-packages (from jinja2->spacy) (3.0.1)\n",
      "Collecting marisa-trie>=1.1.0 (from language-data>=1.2->langcodes<4.0.0,>=3.2.0->spacy)\n",
      "  Using cached marisa_trie-1.2.1-cp311-cp311-win_amd64.whl.metadata (9.3 kB)\n",
      "Requirement already satisfied: markdown-it-py>=2.2.0 in c:\\users\\asus\\appdata\\local\\programs\\python\\python311\\lib\\site-packages (from rich>=10.11.0->typer<1.0.0,>=0.3.0->spacy) (3.0.0)\n",
      "Requirement already satisfied: pygments<3.0.0,>=2.13.0 in c:\\users\\asus\\appdata\\local\\programs\\python\\python311\\lib\\site-packages (from rich>=10.11.0->typer<1.0.0,>=0.3.0->spacy) (2.18.0)\n",
      "Requirement already satisfied: wrapt in c:\\users\\asus\\appdata\\local\\programs\\python\\python311\\lib\\site-packages (from smart-open<8.0.0,>=5.2.1->weasel<0.5.0,>=0.1.0->spacy) (1.17.0)\n",
      "Requirement already satisfied: mdurl~=0.1 in c:\\users\\asus\\appdata\\local\\programs\\python\\python311\\lib\\site-packages (from markdown-it-py>=2.2.0->rich>=10.11.0->typer<1.0.0,>=0.3.0->spacy) (0.1.2)\n",
      "Using cached spacy-3.8.3-cp311-cp311-win_amd64.whl (12.2 MB)\n",
      "Using cached catalogue-2.0.10-py3-none-any.whl (17 kB)\n",
      "Using cached langcodes-3.5.0-py3-none-any.whl (182 kB)\n",
      "Using cached murmurhash-1.0.11-cp311-cp311-win_amd64.whl (25 kB)\n",
      "Using cached preshed-3.0.9-cp311-cp311-win_amd64.whl (122 kB)\n",
      "Using cached srsly-2.5.0-cp311-cp311-win_amd64.whl (632 kB)\n",
      "Using cached thinc-8.3.2-cp311-cp311-win_amd64.whl (1.5 MB)\n",
      "Using cached typer-0.15.1-py3-none-any.whl (44 kB)\n",
      "Using cached weasel-0.4.1-py3-none-any.whl (50 kB)\n",
      "Using cached blis-1.0.2-cp311-cp311-win_amd64.whl (6.3 MB)\n",
      "Using cached cloudpathlib-0.20.0-py3-none-any.whl (52 kB)\n",
      "Using cached confection-0.1.5-py3-none-any.whl (35 kB)\n",
      "Using cached language_data-1.3.0-py3-none-any.whl (5.4 MB)\n",
      "Using cached smart_open-7.0.5-py3-none-any.whl (61 kB)\n",
      "Using cached marisa_trie-1.2.1-cp311-cp311-win_amd64.whl (152 kB)\n",
      "Installing collected packages: smart-open, murmurhash, marisa-trie, cloudpathlib, catalogue, blis, srsly, preshed, language-data, typer, langcodes, confection, weasel, thinc, spacy\n",
      "Successfully installed blis-1.0.2 catalogue-2.0.10 cloudpathlib-0.20.0 confection-0.1.5 langcodes-3.5.0 language-data-1.3.0 marisa-trie-1.2.1 murmurhash-1.0.11 preshed-3.0.9 smart-open-7.0.5 spacy-3.8.3 srsly-2.5.0 thinc-8.3.2 typer-0.15.1 weasel-0.4.1\n"
     ]
    },
    {
     "name": "stderr",
     "output_type": "stream",
     "text": [
      "WARNING: Ignoring invalid distribution ~umpy (C:\\Users\\ASUS\\AppData\\Local\\Programs\\Python\\Python311\\Lib\\site-packages)\n",
      "WARNING: Ignoring invalid distribution ~umpy (C:\\Users\\ASUS\\AppData\\Local\\Programs\\Python\\Python311\\Lib\\site-packages)\n",
      "WARNING: Ignoring invalid distribution ~umpy (C:\\Users\\ASUS\\AppData\\Local\\Programs\\Python\\Python311\\Lib\\site-packages)\n"
     ]
    }
   ],
   "source": [
    "!pip install spacy"
   ]
  },
  {
   "cell_type": "code",
   "execution_count": 2,
   "metadata": {},
   "outputs": [],
   "source": [
    "import spacy"
   ]
  },
  {
   "cell_type": "code",
   "execution_count": 6,
   "metadata": {},
   "outputs": [
    {
     "name": "stdout",
     "output_type": "stream",
     "text": [
      "Introducing\n",
      "Zoho\n",
      "Publish\n",
      ",\n",
      "an\n",
      "all\n",
      "-\n",
      "in\n",
      "-\n",
      "one\n",
      "platform\n",
      "for\n",
      "chain\n",
      "and\n",
      "franchise\n",
      "businesses\n",
      "to\n",
      "boost\n",
      "reputation\n",
      "and\n",
      "improve\n",
      "online\n",
      "presence\n",
      "on\n",
      "top\n",
      "business\n",
      "directories\n",
      ".\n"
     ]
    }
   ],
   "source": [
    "nlp = spacy.blank('en')\n",
    "#understands english\n",
    "doc = nlp(\"Introducing Zoho Publish, an all-in-one platform for chain and franchise businesses to boost reputation and improve online presence on top business directories.\")\n",
    "for token in doc : \n",
    "    print(token)"
   ]
  },
  {
   "cell_type": "code",
   "execution_count": 7,
   "metadata": {},
   "outputs": [
    {
     "name": "stdout",
     "output_type": "stream",
     "text": [
      "\"\n",
      "Introducing\n",
      "Zoho\n",
      "Publish\n",
      ",\n",
      "an\n",
      "all\n",
      "-\n",
      "in\n",
      "-\n",
      "one\n",
      "platform\n",
      "for\n",
      "chain\n",
      "and\n",
      "franchise\n",
      "businesses\n",
      "to\n",
      "boost\n",
      "reputation\n",
      "and\n",
      "improve\n",
      "online\n",
      "presence\n",
      "on\n",
      "top\n",
      "business\n",
      "directories\n",
      ".\n",
      "\"\n"
     ]
    }
   ],
   "source": [
    "nlp = spacy.blank('en')\n",
    "#understands english\n",
    "doc = nlp('''\"Introducing Zoho Publish, an all-in-one platform for chain and franchise businesses to boost reputation and improve online presence on top business directories.\"''')\n",
    "for token in doc : \n",
    "    print(token)"
   ]
  },
  {
   "cell_type": "code",
   "execution_count": 8,
   "metadata": {},
   "outputs": [
    {
     "data": {
      "text/plain": [
       "spacy.lang.en.English"
      ]
     },
     "execution_count": 8,
     "metadata": {},
     "output_type": "execute_result"
    }
   ],
   "source": [
    "type(nlp)"
   ]
  },
  {
   "cell_type": "code",
   "execution_count": 9,
   "metadata": {},
   "outputs": [
    {
     "data": {
      "text/plain": [
       "False"
      ]
     },
     "execution_count": 9,
     "metadata": {},
     "output_type": "execute_result"
    }
   ],
   "source": [
    "token0 = doc[0]\n",
    "token0.is_lower"
   ]
  },
  {
   "cell_type": "code",
   "execution_count": 10,
   "metadata": {},
   "outputs": [
    {
     "data": {
      "text/plain": [
       "['Name, Email\\n',\n",
       " 'John Doe, john.doe@example.com\\n',\n",
       " 'Jane Smith, jane.smith@example.com\\n',\n",
       " 'Emily Davis, emily.davis@example.com\\n',\n",
       " 'Michael Brown, michael.brown@example.com\\n',\n",
       " 'Sarah Wilson, sarah.wilson@example.com\\n']"
      ]
     },
     "execution_count": 10,
     "metadata": {},
     "output_type": "execute_result"
    }
   ],
   "source": [
    "with open(\"students_info.txt\") as f :\n",
    "    text = f.readlines()\n",
    "text"
   ]
  },
  {
   "cell_type": "code",
   "execution_count": 16,
   "metadata": {},
   "outputs": [
    {
     "name": "stdout",
     "output_type": "stream",
     "text": [
      "Collecting en-core-web-sm==3.8.0\n",
      "  Downloading https://github.com/explosion/spacy-models/releases/download/en_core_web_sm-3.8.0/en_core_web_sm-3.8.0-py3-none-any.whl (12.8 MB)\n",
      "     ---------------------------------------- 0.0/12.8 MB ? eta -:--:--\n",
      "     ---- ----------------------------------- 1.6/12.8 MB 9.4 MB/s eta 0:00:02\n",
      "     --------- ------------------------------ 3.1/12.8 MB 8.0 MB/s eta 0:00:02\n",
      "     --------------- ------------------------ 5.0/12.8 MB 8.2 MB/s eta 0:00:01\n",
      "     ---------------------- ----------------- 7.1/12.8 MB 8.4 MB/s eta 0:00:01\n",
      "     --------------------------- ------------ 8.7/12.8 MB 8.4 MB/s eta 0:00:01\n",
      "     --------------------------- ------------ 8.7/12.8 MB 8.4 MB/s eta 0:00:01\n",
      "     ----------------------------- ---------- 9.4/12.8 MB 6.4 MB/s eta 0:00:01\n",
      "     ---------------------------------- ----- 11.0/12.8 MB 6.5 MB/s eta 0:00:01\n",
      "     ---------------------------------------  12.6/12.8 MB 6.6 MB/s eta 0:00:01\n",
      "     ---------------------------------------- 12.8/12.8 MB 6.5 MB/s eta 0:00:00\n",
      "Installing collected packages: en-core-web-sm\n",
      "Successfully installed en-core-web-sm-3.8.0\n",
      "\u001b[38;5;2m✔ Download and installation successful\u001b[0m\n",
      "You can now load the package via spacy.load('en_core_web_sm')\n"
     ]
    },
    {
     "name": "stderr",
     "output_type": "stream",
     "text": [
      "WARNING: Ignoring invalid distribution ~umpy (c:\\Users\\ASUS\\AppData\\Local\\Programs\\Python\\Python311\\Lib\\site-packages)\n",
      "WARNING: Ignoring invalid distribution ~umpy (c:\\Users\\ASUS\\AppData\\Local\\Programs\\Python\\Python311\\Lib\\site-packages)\n",
      "WARNING: Ignoring invalid distribution ~umpy (c:\\Users\\ASUS\\AppData\\Local\\Programs\\Python\\Python311\\Lib\\site-packages)\n"
     ]
    }
   ],
   "source": [
    "!python -m spacy download en_core_web_sm\n"
   ]
  },
  {
   "cell_type": "code",
   "execution_count": 18,
   "metadata": {},
   "outputs": [
    {
     "name": "stdout",
     "output_type": "stream",
     "text": [
      "john.doe@example.com\n",
      "jane.smith@example.com\n",
      "emily.davis@example.com\n",
      "michael.brown@example.com\n",
      "sarah.wilson@example.com\n"
     ]
    }
   ],
   "source": [
    "import spacy\n",
    "\n",
    "# Load the language model\n",
    "nlp = spacy.load(\"en_core_web_sm\")\n",
    "\n",
    "# Read the file and join lines into a single string\n",
    "with open(\"students_info.txt\") as f:\n",
    "    text = f.read()  # Use read() instead of readlines() to get the entire content as a string\n",
    "\n",
    "# Process the text\n",
    "doc = nlp(text)\n",
    "\n",
    "# Identify and print email-like tokens\n",
    "for token in doc:\n",
    "    if token.like_email:\n",
    "        print(token)\n"
   ]
  },
  {
   "cell_type": "code",
   "execution_count": 21,
   "metadata": {},
   "outputs": [
    {
     "name": "stdout",
     "output_type": "stream",
     "text": [
      "சூப்பர் False\n",
      "ஸ்டார் False\n",
      "ரஜினிகாந்த் False\n",
      ", False\n",
      "இந்திய False\n",
      "திரைப்பட False\n",
      "உலகின் False\n",
      "பிரபலமான False\n",
      "நடிகராக False\n",
      "திகழ்கிறார் False\n",
      ". False\n",
      "இவர் False\n",
      "இதுவரை False\n",
      "170 True\n",
      "க்கும் False\n",
      "மேற்பட்ட False\n",
      "திரைப்படங்களில் False\n",
      "நடித்துள்ளார் False\n",
      ". False\n",
      "அவரது False\n",
      "திறமையான False\n",
      "நடிப்பும் False\n",
      ", False\n",
      "எளிமையான False\n",
      "தன்மையும் False\n",
      "கோடிக்கணக்கான False\n",
      "ரசிகர்களின் False\n",
      "மனதில் False\n",
      "இடம்பிடித்துள்ளது False\n",
      ". False\n"
     ]
    }
   ],
   "source": [
    "nlp = spacy.blank('ta')\n",
    "\n",
    "text = \"சூப்பர் ஸ்டார் ரஜினிகாந்த், இந்திய திரைப்பட உலகின் பிரபலமான நடிகராக திகழ்கிறார். இவர் இதுவரை 170 க்கும் மேற்பட்ட திரைப்படங்களில் நடித்துள்ளார். அவரது திறமையான நடிப்பும், எளிமையான தன்மையும் கோடிக்கணக்கான ரசிகர்களின் மனதில் இடம்பிடித்துள்ளது.\"\n",
    "doc = nlp(text)\n",
    "for token in doc :\n",
    "    print(token, token.like_num)"
   ]
  },
  {
   "cell_type": "code",
   "execution_count": 25,
   "metadata": {},
   "outputs": [
    {
     "name": "stdout",
     "output_type": "stream",
     "text": [
      "['If', 'you', 'continue', 'to', 'face', 'issues', ',', 'share', 'the', 'full', 'traceback', 'or', 'context', 'for', 'further', 'assistance', 'gimme', 'a', 'call']\n"
     ]
    }
   ],
   "source": [
    "text = \"If you continue to face issues, share the full traceback or context for further assistance gimme a call\"\n",
    "doc = nlp(text)\n",
    "tokens = [ token.text for token in doc ]\n",
    "print(tokens)"
   ]
  },
  {
   "cell_type": "code",
   "execution_count": 27,
   "metadata": {},
   "outputs": [
    {
     "name": "stdout",
     "output_type": "stream",
     "text": [
      "['gim', 'me', 'the', 'book']\n"
     ]
    }
   ],
   "source": [
    "import spacy\n",
    "from spacy.symbols import ORTH\n",
    "\n",
    "# Load the language model\n",
    "nlp = spacy.load(\"en_core_web_sm\")\n",
    "\n",
    "# Add a special case to the tokenizer for \"gimme\"\n",
    "nlp.tokenizer.add_special_case(\"gimme\", [\n",
    "    {ORTH: \"gim\"},\n",
    "    {ORTH: \"me\"}\n",
    "])\n",
    "\n",
    "# Test the tokenizer with the special case\n",
    "doc = nlp(\"gimme the book\")\n",
    "print([token.text for token in doc])  # Output: ['give', 'me', 'the', 'book']\n"
   ]
  },
  {
   "cell_type": "code",
   "execution_count": 29,
   "metadata": {},
   "outputs": [
    {
     "name": "stdout",
     "output_type": "stream",
     "text": [
      "Here are two short sentences about Mahendra Singh Dhoni (MS Dhoni), an Indian cricketer:\n",
      "MS Dhoni is a former Indian cricketer who captained the Indian national team to victory in the 2011 Cricket World Cup.\n",
      "\n",
      "Dhoni is considered one of the most successful Indian captains and most prolific wicket-keeper batsmen.\n",
      "\n",
      "Here are some other facts about MS Dhoni.\n"
     ]
    }
   ],
   "source": [
    "import spacy\n",
    "\n",
    "# Load the language model\n",
    "nlp = spacy.load(\"en_core_web_sm\")\n",
    "\n",
    "# Add the sentencizer to the pipeline\n",
    "nlp.add_pipe('sentencizer', first=True)\n",
    "\n",
    "# Sample text\n",
    "text = '''Here are two short sentences about Mahendra Singh Dhoni (MS Dhoni), an Indian cricketer:\n",
    "MS Dhoni is a former Indian cricketer who captained the Indian national team to victory in the 2011 Cricket World Cup. \n",
    "Dhoni is considered one of the most successful Indian captains and most prolific wicket-keeper batsmen. \n",
    "Here are some other facts about MS Dhoni.'''\n",
    "\n",
    "# Process the text\n",
    "doc = nlp(text)\n",
    "\n",
    "# Print the sentences\n",
    "for sentence in doc.sents:\n",
    "    print(sentence)\n"
   ]
  },
  {
   "cell_type": "code",
   "execution_count": 28,
   "metadata": {},
   "outputs": [
    {
     "name": "stdout",
     "output_type": "stream",
     "text": [
      "Here are two short sentences about Mahendra Singh Dhoni (MS Dhoni), an Indian cricketer:\n",
      "MS Dhoni is a former Indian cricketer who captained the Indian national team to victory in the 2011 Cricket World Cup. \n",
      "\n",
      "Dhoni is considered one of the most successful Indian captains and most prolific wicket-keeper batsmen. \n",
      "\n",
      "Here are some other facts about MS Dhoni:\n",
      "Dhoni was born on July 7, 1981 in Ranchi, Bihar. \n",
      "\n",
      "He made his international debut in 2004 against Bangladesh in Chittagong. \n",
      "\n",
      "He captained the Indian cricket team in limited overs formats from 2007 to 2017 and in test cricket from 2008 to 2014.\n"
     ]
    }
   ],
   "source": [
    "text = '''Here are two short sentences about Mahendra Singh Dhoni (MS Dhoni), an Indian cricketer:\n",
    "MS Dhoni is a former Indian cricketer who captained the Indian national team to victory in the 2011 Cricket World Cup. \n",
    "Dhoni is considered one of the most successful Indian captains and most prolific wicket-keeper batsmen. \n",
    "Here are some other facts about MS Dhoni:\n",
    "Dhoni was born on July 7, 1981 in Ranchi, Bihar. \n",
    "He made his international debut in 2004 against Bangladesh in Chittagong. \n",
    "He captained the Indian cricket team in limited overs formats from 2007 to 2017 and in test cricket from 2008 to 2014. '''\n",
    "doc = nlp(text)\n",
    "\n",
    "for sentence  in doc.sents :\n",
    "    print(sentence)"
   ]
  }
 ],
 "metadata": {
  "kernelspec": {
   "display_name": "Python 3",
   "language": "python",
   "name": "python3"
  },
  "language_info": {
   "codemirror_mode": {
    "name": "ipython",
    "version": 3
   },
   "file_extension": ".py",
   "mimetype": "text/x-python",
   "name": "python",
   "nbconvert_exporter": "python",
   "pygments_lexer": "ipython3",
   "version": "3.11.9"
  }
 },
 "nbformat": 4,
 "nbformat_minor": 2
}
